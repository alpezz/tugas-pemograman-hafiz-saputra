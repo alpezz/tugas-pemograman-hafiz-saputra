{
 "cells": [
  {
   "cell_type": "code",
   "execution_count": 1,
   "metadata": {},
   "outputs": [
    {
     "name": "stdout",
     "output_type": "stream",
     "text": [
      "volume balok:  168\n",
      "keliling balok:  68\n"
     ]
    }
   ],
   "source": [
    "panjang_balok = int(input(\"Masukkan panjang balok: \"))\n",
    "lebar_balok = int(input(\"Masukkan lebar balok: \"))\n",
    "tinggi_balok = int(input(\"Masukkan tinggi balok: \"))\n",
    "\n",
    "# menghitung volume balok\n",
    "volume_balok = panjang_balok * lebar_balok * tinggi_balok\n",
    "\n",
    "# menghitung keliling balok\n",
    "keliling_balok = 4 * (panjang_balok+lebar_balok+tinggi_balok)\n",
    "\n",
    "# menampilkan hasil\n",
    "print(\"volume balok: \", volume_balok)\n",
    "print(\"keliling balok: \", keliling_balok)"
   ]
  },
  {
   "cell_type": "markdown",
   "metadata": {},
   "source": [
    "Analisis Kode untuk Menghitung Volume dan Keliling Balok\n",
    "Fungsi Kode:\n",
    "\n",
    "Kode ini memungkinkan pengguna untuk memasukkan nilai panjang, lebar, dan tinggi balok, kemudian menghitung dan menampilkan volume dan keliling balok.\n",
    "\n",
    "Langkah-langkah:\n",
    "Meminta Input:\n",
    "Kode menggunakan input() untuk meminta pengguna memasukkan nilai panjang, lebar, dan tinggi balok. Nilai input disimpan dalam variabel panjang_balok, lebar_balok, dan tinggi_balok.\n",
    "\n",
    "Menghitung Volume Balok:\n",
    "Rumus volume_balok = panjang_balok * lebar_balok * tinggi_balok digunakan untuk menghitung volume balok. Hasilnya disimpan dalam variabel volume_balok.\n",
    "\n",
    "Menghitung Keliling Balok:\n",
    "Rumus keliling_balok = 4 * (panjang_balok + lebar_balok + tinggi_balok) digunakan untuk menghitung keliling balok. Hasilnya disimpan dalam variabel keliling_balok.\n",
    "\n",
    "Menampilkan Hasil:\n",
    "Kode menggunakan print() untuk menampilkan nilai volume balok dan keliling balok yang telah dihitung.\n",
    "\n",
    "hasil dari codingan ini dengan memasukkan nilai panjang,lebar dan tinggi dengan panjang (4) lebar (6) dan tinggi adalah (7)\n",
    "dan mendapatkan hasil dari dari volume balok denan hasil nya adalah (168) dan keliling balok dengan hasil (68)"
   ]
  }
 ],
 "metadata": {
  "kernelspec": {
   "display_name": "Python 3",
   "language": "python",
   "name": "python3"
  },
  "language_info": {
   "codemirror_mode": {
    "name": "ipython",
    "version": 3
   },
   "file_extension": ".py",
   "mimetype": "text/x-python",
   "name": "python",
   "nbconvert_exporter": "python",
   "pygments_lexer": "ipython3",
   "version": "3.12.2"
  }
 },
 "nbformat": 4,
 "nbformat_minor": 2
}
